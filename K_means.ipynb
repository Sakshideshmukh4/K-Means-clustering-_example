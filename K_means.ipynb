{
  "nbformat": 4,
  "nbformat_minor": 0,
  "metadata": {
    "colab": {
      "name": "K_means.ipynb",
      "provenance": []
    },
    "kernelspec": {
      "name": "python3",
      "display_name": "Python 3"
    },
    "language_info": {
      "name": "python"
    }
  },
  "cells": [
    {
      "cell_type": "markdown",
      "metadata": {
        "id": "CPCafS-LxM6A"
      },
      "source": [
        "## **Data Science Internship at Spark Foundation**\n"
      ]
    },
    {
      "cell_type": "markdown",
      "metadata": {
        "id": "rz2BLnGYzgEw"
      },
      "source": [
        "## **Name : Sakshi Anilrao Deshmukh**\n",
        "\n"
      ]
    },
    {
      "cell_type": "markdown",
      "metadata": {
        "id": "H6KTm4LBxnd8"
      },
      "source": [
        "\n",
        "# **Task 2 : Predicting the optimum no. of clusters using unsupervised ML**"
      ]
    },
    {
      "cell_type": "code",
      "metadata": {
        "id": "AaNuMsdqZ_MI"
      },
      "source": [
        "#importing the required libraries\n",
        "import numpy as np\n",
        "import pandas as pd\n",
        "from sklearn.cluster import KMeans\n",
        "import matplotlib.pyplot as plt\n",
        "from sklearn import datasets"
      ],
      "execution_count": null,
      "outputs": []
    },
    {
      "cell_type": "code",
      "metadata": {
        "id": "4cRqYxYTbVvQ",
        "colab": {
          "base_uri": "https://localhost:8080/",
          "height": 206
        },
        "outputId": "af27a802-9a7c-4ae4-d93e-571963c50b0f"
      },
      "source": [
        "#loading iris dataset from sklearn datasets\n",
        "Iris =datasets.load_iris()\n",
        "Iris_df = pd.DataFrame(Iris.data , columns =Iris.feature_names )\n",
        "Iris_df.head()"
      ],
      "execution_count": null,
      "outputs": [
        {
          "output_type": "execute_result",
          "data": {
            "text/html": [
              "<div>\n",
              "<style scoped>\n",
              "    .dataframe tbody tr th:only-of-type {\n",
              "        vertical-align: middle;\n",
              "    }\n",
              "\n",
              "    .dataframe tbody tr th {\n",
              "        vertical-align: top;\n",
              "    }\n",
              "\n",
              "    .dataframe thead th {\n",
              "        text-align: right;\n",
              "    }\n",
              "</style>\n",
              "<table border=\"1\" class=\"dataframe\">\n",
              "  <thead>\n",
              "    <tr style=\"text-align: right;\">\n",
              "      <th></th>\n",
              "      <th>sepal length (cm)</th>\n",
              "      <th>sepal width (cm)</th>\n",
              "      <th>petal length (cm)</th>\n",
              "      <th>petal width (cm)</th>\n",
              "    </tr>\n",
              "  </thead>\n",
              "  <tbody>\n",
              "    <tr>\n",
              "      <th>0</th>\n",
              "      <td>5.1</td>\n",
              "      <td>3.5</td>\n",
              "      <td>1.4</td>\n",
              "      <td>0.2</td>\n",
              "    </tr>\n",
              "    <tr>\n",
              "      <th>1</th>\n",
              "      <td>4.9</td>\n",
              "      <td>3.0</td>\n",
              "      <td>1.4</td>\n",
              "      <td>0.2</td>\n",
              "    </tr>\n",
              "    <tr>\n",
              "      <th>2</th>\n",
              "      <td>4.7</td>\n",
              "      <td>3.2</td>\n",
              "      <td>1.3</td>\n",
              "      <td>0.2</td>\n",
              "    </tr>\n",
              "    <tr>\n",
              "      <th>3</th>\n",
              "      <td>4.6</td>\n",
              "      <td>3.1</td>\n",
              "      <td>1.5</td>\n",
              "      <td>0.2</td>\n",
              "    </tr>\n",
              "    <tr>\n",
              "      <th>4</th>\n",
              "      <td>5.0</td>\n",
              "      <td>3.6</td>\n",
              "      <td>1.4</td>\n",
              "      <td>0.2</td>\n",
              "    </tr>\n",
              "  </tbody>\n",
              "</table>\n",
              "</div>"
            ],
            "text/plain": [
              "   sepal length (cm)  sepal width (cm)  petal length (cm)  petal width (cm)\n",
              "0                5.1               3.5                1.4               0.2\n",
              "1                4.9               3.0                1.4               0.2\n",
              "2                4.7               3.2                1.3               0.2\n",
              "3                4.6               3.1                1.5               0.2\n",
              "4                5.0               3.6                1.4               0.2"
            ]
          },
          "metadata": {
            "tags": []
          },
          "execution_count": 3
        }
      ]
    },
    {
      "cell_type": "code",
      "metadata": {
        "colab": {
          "base_uri": "https://localhost:8080/"
        },
        "id": "T6xvejNpeYj_",
        "outputId": "f10534fd-1b6c-4233-c3ed-a744f5630348"
      },
      "source": [
        "#pritning total no. of records in iris\n",
        "Iris_df.count()\n"
      ],
      "execution_count": null,
      "outputs": [
        {
          "output_type": "execute_result",
          "data": {
            "text/plain": [
              "sepal length (cm)    150\n",
              "sepal width (cm)     150\n",
              "petal length (cm)    150\n",
              "petal width (cm)     150\n",
              "dtype: int64"
            ]
          },
          "metadata": {
            "tags": []
          },
          "execution_count": 4
        }
      ]
    },
    {
      "cell_type": "code",
      "metadata": {
        "id": "yohOAZgztiHK"
      },
      "source": [
        "#copying feature values to X\n",
        "X = Iris_df.iloc[ :  , [0,1,2,3]].values\n"
      ],
      "execution_count": null,
      "outputs": []
    },
    {
      "cell_type": "code",
      "metadata": {
        "id": "rU8Z70GtulFI"
      },
      "source": [
        "#calculating error for every n_cluster\n",
        "errors = []\n",
        "for i in range(1 ,11):\n",
        "  kmeans = KMeans( n_clusters = i).fit(X)\n",
        "  kmeans.fit(X)\n",
        "  errors.append(kmeans.inertia_)\n",
        "\n"
      ],
      "execution_count": null,
      "outputs": []
    },
    {
      "cell_type": "code",
      "metadata": {
        "id": "9klA6OCKv1EE",
        "colab": {
          "base_uri": "https://localhost:8080/",
          "height": 312
        },
        "outputId": "1ed8c57d-1f2f-4904-d199-6ed711ac34aa"
      },
      "source": [
        "#plotting error against No . of clusters to find optimum k for minumum error\n",
        "plt.plot(range(1 ,11) , errors)\n",
        "plt.title(\"Elbow method\")\n",
        "plt.xlabel(\"No. of clusters\")\n",
        "plt.ylabel(\"Error\")\n",
        "plt.show"
      ],
      "execution_count": null,
      "outputs": [
        {
          "output_type": "execute_result",
          "data": {
            "text/plain": [
              "<function matplotlib.pyplot.show>"
            ]
          },
          "metadata": {
            "tags": []
          },
          "execution_count": 7
        },
        {
          "output_type": "display_data",
          "data": {
            "image/png": "[encoded data removed]",
            "text/plain": [
              "<Figure size 432x288 with 1 Axes>"
            ]
          },
          "metadata": {
            "tags": [],
            "needs_background": "light"
          }
        }
      ]
    },
    {
      "cell_type": "markdown",
      "metadata": {
        "id": "yCNGdi2B0Ii8"
      },
      "source": [
        "The plotted curve cocludes that , the error is co,paratively minimum at n_clusters=3 "
      ]
    },
    {
      "cell_type": "code",
      "metadata": {
        "id": "2iqEsrsZw1Ps",
        "colab": {
          "base_uri": "https://localhost:8080/"
        },
        "outputId": "8a6a51aa-0461-46e9-bbf6-df1593900dba"
      },
      "source": [
        "#printing out the k_means classified cluster values \n",
        "opt_kmeans =KMeans(n_clusters=3)\n",
        "Y =opt_kmeans.fit_predict(X)\n",
        "print(\"The classified cluster values for X are : \\n\",Y)"
      ],
      "execution_count": null,
      "outputs": [
        {
          "output_type": "stream",
          "text": [
            "The classified cluster values for X are : \n",
            " [0 0 0 0 0 0 0 0 0 0 0 0 0 0 0 0 0 0 0 0 0 0 0 0 0 0 0 0 0 0 0 0 0 0 0 0 0\n",
            " 0 0 0 0 0 0 0 0 0 0 0 0 0 1 1 2 1 1 1 1 1 1 1 1 1 1 1 1 1 1 1 1 1 1 1 1 1\n",
            " 1 1 1 2 1 1 1 1 1 1 1 1 1 1 1 1 1 1 1 1 1 1 1 1 1 1 2 1 2 2 2 2 1 2 2 2 2\n",
            " 2 2 1 1 2 2 2 2 1 2 1 2 1 2 2 1 1 2 2 2 2 2 1 2 2 2 2 1 2 2 2 1 2 2 2 1 2\n",
            " 2 1]\n"
          ],
          "name": "stdout"
        }
      ]
    },
    {
      "cell_type": "code",
      "metadata": {
        "id": "UURjKmVOx4WL",
        "colab": {
          "base_uri": "https://localhost:8080/"
        },
        "outputId": "c1a96bcc-ba8c-428b-e1e4-cfa8d2679a98"
      },
      "source": [
        "#printing the k_means cluster with different colors for different cluster points\n",
        "print(\"The 3 k_means cluster centers :\\n \", opt_kmeans.cluster_centers_)"
      ],
      "execution_count": null,
      "outputs": [
        {
          "output_type": "stream",
          "text": [
            "The 3 k_means cluster centers :\n",
            "  [[5.006      3.428      1.462      0.246     ]\n",
            " [5.9016129  2.7483871  4.39354839 1.43387097]\n",
            " [6.85       3.07368421 5.74210526 2.07105263]]\n"
          ],
          "name": "stdout"
        }
      ]
    },
    {
      "cell_type": "code",
      "metadata": {
        "id": "nOkTLEA10FEz",
        "colab": {
          "base_uri": "https://localhost:8080/",
          "height": 299
        },
        "outputId": "c7b38002-b359-49b5-9306-4ea9301275aa"
      },
      "source": [
        "plt.scatter(X[Y==0 , 0] , X[Y==0 , 1] ,s=100, c=\"red\" , label = 'Iris-setosa')\n",
        "plt.scatter(X[Y==1 , 0] , X[Y==1 , 1] ,s=100, c=\"green\" , label = 'Iris-versicolour')\n",
        "plt.scatter(X[Y==2 , 0] , X[Y==2 , 1] ,s=100, c=\"blue\" , label = 'Iris-virginica')\n",
        "\n",
        "plt.scatter(kmeans.cluster_centers_[:, 0], kmeans.cluster_centers_[:,1], s = 100, c = 'yellow', label = 'Centroids')\n",
        "plt.xlabel(\"sepal length (cm)\")\n",
        "plt.ylabel(\"sepal width (cm)\")\n",
        "plt.legend"
      ],
      "execution_count": null,
      "outputs": [
        {
          "output_type": "execute_result",
          "data": {
            "text/plain": [
              "<function matplotlib.pyplot.legend>"
            ]
          },
          "metadata": {
            "tags": []
          },
          "execution_count": 10
        },
        {
          "output_type": "display_data",
          "data": {
            "image/png": "[encoded data removed]",
            "text/plain": [
              "<Figure size 432x288 with 1 Axes>"
            ]
          },
          "metadata": {
            "tags": [],
            "needs_background": "light"
          }
        }
      ]
    },
    {
      "cell_type": "code",
      "metadata": {
        "id": "XIfjrAffyJs9"
      },
      "source": [
        ""
      ],
      "execution_count": null,
      "outputs": []
    }
  ]
}